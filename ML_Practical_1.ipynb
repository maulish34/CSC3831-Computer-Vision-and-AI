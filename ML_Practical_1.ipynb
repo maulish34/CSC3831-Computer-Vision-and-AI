{
  "cells": [
    {
      "cell_type": "markdown",
      "metadata": {
        "id": "eF9eXdb7NgME"
      },
      "source": [
        "# ML Practical 1\n",
        "\n",
        "This practical session is divided into 2 sections:\n",
        "\n",
        "1. Linear Regression\n",
        "2. Validation Approaches"
      ]
    },
    {
      "cell_type": "markdown",
      "metadata": {
        "id": "HnvO-lS-Ldbq"
      },
      "source": [
        "## 0. Preliminary\n",
        "\n",
        "To begin, lets load the packages that we will use. These are:\n",
        "- For **loading** and **transforming** our data, we will use `pandas` and `numpy`\n",
        "- For our **modelling**, we will use several `sklearn` sub-modules\n",
        "- For **plotting**, we will use `seaborn` and `matplotlib`"
      ]
    },
    {
      "cell_type": "code",
      "execution_count": 1,
      "metadata": {
        "id": "67YJzVguMlaH"
      },
      "outputs": [],
      "source": [
        "import matplotlib.pyplot as plt\n",
        "import numpy as np\n",
        "import pandas as pd\n",
        "import seaborn as sns\n",
        "\n",
        "from sklearn.linear_model import (\n",
        "    LinearRegression,\n",
        "    LogisticRegression,\n",
        ")\n",
        "\n",
        "from sklearn.metrics import (\n",
        "    classification_report,\n",
        "    accuracy_score,\n",
        "    root_mean_squared_error,\n",
        "    r2_score,\n",
        "    confusion_matrix,\n",
        ")\n",
        "\n",
        "from sklearn.model_selection import (\n",
        "    train_test_split,\n",
        "    cross_val_score,\n",
        "    GridSearchCV,\n",
        ")\n",
        "\n",
        "from sklearn.neighbors import KNeighborsClassifier\n",
        "\n",
        "sns.set_theme()"
      ]
    },
    {
      "cell_type": "markdown",
      "metadata": {
        "id": "joH2EZDiPFxr"
      },
      "source": [
        "## 1. Linear Regression\n",
        "\n",
        "In the first part, we will load the `Boston` housing data set, and fit both a simple linear regression model with a single predictor, as well as a multinomial regression model, using additional variables.\n",
        "\n",
        "We load the `Boston` dataset from the module's repository using pandas' `load_csv()` method.\n",
        "\n",
        "Then, we print the first 10 rows of data using the `head()` method."
      ]
    },
    {
      "cell_type": "code",
      "execution_count": 2,
      "metadata": {
        "id": "qWViH8i_PE9Q"
      },
      "outputs": [
        {
          "data": {
            "text/html": [
              "<div>\n",
              "<style scoped>\n",
              "    .dataframe tbody tr th:only-of-type {\n",
              "        vertical-align: middle;\n",
              "    }\n",
              "\n",
              "    .dataframe tbody tr th {\n",
              "        vertical-align: top;\n",
              "    }\n",
              "\n",
              "    .dataframe thead th {\n",
              "        text-align: right;\n",
              "    }\n",
              "</style>\n",
              "<table border=\"1\" class=\"dataframe\">\n",
              "  <thead>\n",
              "    <tr style=\"text-align: right;\">\n",
              "      <th></th>\n",
              "      <th>Unnamed: 0</th>\n",
              "      <th>crim</th>\n",
              "      <th>zn</th>\n",
              "      <th>indus</th>\n",
              "      <th>chas</th>\n",
              "      <th>nox</th>\n",
              "      <th>rm</th>\n",
              "      <th>age</th>\n",
              "      <th>dis</th>\n",
              "      <th>rad</th>\n",
              "      <th>tax</th>\n",
              "      <th>ptratio</th>\n",
              "      <th>lstat</th>\n",
              "      <th>medv</th>\n",
              "    </tr>\n",
              "  </thead>\n",
              "  <tbody>\n",
              "    <tr>\n",
              "      <th>0</th>\n",
              "      <td>1</td>\n",
              "      <td>0.00632</td>\n",
              "      <td>18.0</td>\n",
              "      <td>2.31</td>\n",
              "      <td>0</td>\n",
              "      <td>0.538</td>\n",
              "      <td>6.575</td>\n",
              "      <td>65.2</td>\n",
              "      <td>4.0900</td>\n",
              "      <td>1</td>\n",
              "      <td>296</td>\n",
              "      <td>15.3</td>\n",
              "      <td>4.98</td>\n",
              "      <td>24.0</td>\n",
              "    </tr>\n",
              "    <tr>\n",
              "      <th>1</th>\n",
              "      <td>2</td>\n",
              "      <td>0.02731</td>\n",
              "      <td>0.0</td>\n",
              "      <td>7.07</td>\n",
              "      <td>0</td>\n",
              "      <td>0.469</td>\n",
              "      <td>6.421</td>\n",
              "      <td>78.9</td>\n",
              "      <td>4.9671</td>\n",
              "      <td>2</td>\n",
              "      <td>242</td>\n",
              "      <td>17.8</td>\n",
              "      <td>9.14</td>\n",
              "      <td>21.6</td>\n",
              "    </tr>\n",
              "    <tr>\n",
              "      <th>2</th>\n",
              "      <td>3</td>\n",
              "      <td>0.02729</td>\n",
              "      <td>0.0</td>\n",
              "      <td>7.07</td>\n",
              "      <td>0</td>\n",
              "      <td>0.469</td>\n",
              "      <td>7.185</td>\n",
              "      <td>61.1</td>\n",
              "      <td>4.9671</td>\n",
              "      <td>2</td>\n",
              "      <td>242</td>\n",
              "      <td>17.8</td>\n",
              "      <td>4.03</td>\n",
              "      <td>34.7</td>\n",
              "    </tr>\n",
              "    <tr>\n",
              "      <th>3</th>\n",
              "      <td>4</td>\n",
              "      <td>0.03237</td>\n",
              "      <td>0.0</td>\n",
              "      <td>2.18</td>\n",
              "      <td>0</td>\n",
              "      <td>0.458</td>\n",
              "      <td>6.998</td>\n",
              "      <td>45.8</td>\n",
              "      <td>6.0622</td>\n",
              "      <td>3</td>\n",
              "      <td>222</td>\n",
              "      <td>18.7</td>\n",
              "      <td>2.94</td>\n",
              "      <td>33.4</td>\n",
              "    </tr>\n",
              "    <tr>\n",
              "      <th>4</th>\n",
              "      <td>5</td>\n",
              "      <td>0.06905</td>\n",
              "      <td>0.0</td>\n",
              "      <td>2.18</td>\n",
              "      <td>0</td>\n",
              "      <td>0.458</td>\n",
              "      <td>7.147</td>\n",
              "      <td>54.2</td>\n",
              "      <td>6.0622</td>\n",
              "      <td>3</td>\n",
              "      <td>222</td>\n",
              "      <td>18.7</td>\n",
              "      <td>5.33</td>\n",
              "      <td>36.2</td>\n",
              "    </tr>\n",
              "    <tr>\n",
              "      <th>5</th>\n",
              "      <td>6</td>\n",
              "      <td>0.02985</td>\n",
              "      <td>0.0</td>\n",
              "      <td>2.18</td>\n",
              "      <td>0</td>\n",
              "      <td>0.458</td>\n",
              "      <td>6.430</td>\n",
              "      <td>58.7</td>\n",
              "      <td>6.0622</td>\n",
              "      <td>3</td>\n",
              "      <td>222</td>\n",
              "      <td>18.7</td>\n",
              "      <td>5.21</td>\n",
              "      <td>28.7</td>\n",
              "    </tr>\n",
              "    <tr>\n",
              "      <th>6</th>\n",
              "      <td>7</td>\n",
              "      <td>0.08829</td>\n",
              "      <td>12.5</td>\n",
              "      <td>7.87</td>\n",
              "      <td>0</td>\n",
              "      <td>0.524</td>\n",
              "      <td>6.012</td>\n",
              "      <td>66.6</td>\n",
              "      <td>5.5605</td>\n",
              "      <td>5</td>\n",
              "      <td>311</td>\n",
              "      <td>15.2</td>\n",
              "      <td>12.43</td>\n",
              "      <td>22.9</td>\n",
              "    </tr>\n",
              "    <tr>\n",
              "      <th>7</th>\n",
              "      <td>8</td>\n",
              "      <td>0.14455</td>\n",
              "      <td>12.5</td>\n",
              "      <td>7.87</td>\n",
              "      <td>0</td>\n",
              "      <td>0.524</td>\n",
              "      <td>6.172</td>\n",
              "      <td>96.1</td>\n",
              "      <td>5.9505</td>\n",
              "      <td>5</td>\n",
              "      <td>311</td>\n",
              "      <td>15.2</td>\n",
              "      <td>19.15</td>\n",
              "      <td>27.1</td>\n",
              "    </tr>\n",
              "    <tr>\n",
              "      <th>8</th>\n",
              "      <td>9</td>\n",
              "      <td>0.21124</td>\n",
              "      <td>12.5</td>\n",
              "      <td>7.87</td>\n",
              "      <td>0</td>\n",
              "      <td>0.524</td>\n",
              "      <td>5.631</td>\n",
              "      <td>100.0</td>\n",
              "      <td>6.0821</td>\n",
              "      <td>5</td>\n",
              "      <td>311</td>\n",
              "      <td>15.2</td>\n",
              "      <td>29.93</td>\n",
              "      <td>16.5</td>\n",
              "    </tr>\n",
              "    <tr>\n",
              "      <th>9</th>\n",
              "      <td>10</td>\n",
              "      <td>0.17004</td>\n",
              "      <td>12.5</td>\n",
              "      <td>7.87</td>\n",
              "      <td>0</td>\n",
              "      <td>0.524</td>\n",
              "      <td>6.004</td>\n",
              "      <td>85.9</td>\n",
              "      <td>6.5921</td>\n",
              "      <td>5</td>\n",
              "      <td>311</td>\n",
              "      <td>15.2</td>\n",
              "      <td>17.10</td>\n",
              "      <td>18.9</td>\n",
              "    </tr>\n",
              "  </tbody>\n",
              "</table>\n",
              "</div>"
            ],
            "text/plain": [
              "   Unnamed: 0     crim    zn  indus  chas    nox     rm    age     dis  rad  \\\n",
              "0           1  0.00632  18.0   2.31     0  0.538  6.575   65.2  4.0900    1   \n",
              "1           2  0.02731   0.0   7.07     0  0.469  6.421   78.9  4.9671    2   \n",
              "2           3  0.02729   0.0   7.07     0  0.469  7.185   61.1  4.9671    2   \n",
              "3           4  0.03237   0.0   2.18     0  0.458  6.998   45.8  6.0622    3   \n",
              "4           5  0.06905   0.0   2.18     0  0.458  7.147   54.2  6.0622    3   \n",
              "5           6  0.02985   0.0   2.18     0  0.458  6.430   58.7  6.0622    3   \n",
              "6           7  0.08829  12.5   7.87     0  0.524  6.012   66.6  5.5605    5   \n",
              "7           8  0.14455  12.5   7.87     0  0.524  6.172   96.1  5.9505    5   \n",
              "8           9  0.21124  12.5   7.87     0  0.524  5.631  100.0  6.0821    5   \n",
              "9          10  0.17004  12.5   7.87     0  0.524  6.004   85.9  6.5921    5   \n",
              "\n",
              "   tax  ptratio  lstat  medv  \n",
              "0  296     15.3   4.98  24.0  \n",
              "1  242     17.8   9.14  21.6  \n",
              "2  242     17.8   4.03  34.7  \n",
              "3  222     18.7   2.94  33.4  \n",
              "4  222     18.7   5.33  36.2  \n",
              "5  222     18.7   5.21  28.7  \n",
              "6  311     15.2  12.43  22.9  \n",
              "7  311     15.2  19.15  27.1  \n",
              "8  311     15.2  29.93  16.5  \n",
              "9  311     15.2  17.10  18.9  "
            ]
          },
          "execution_count": 2,
          "metadata": {},
          "output_type": "execute_result"
        }
      ],
      "source": [
        "path = 'https://github.com/vladoxNCL/ml_course/raw/main/Boston.csv'\n",
        "df = pd.read_csv(path)\n",
        "df.head(10)"
      ]
    },
    {
      "cell_type": "markdown",
      "metadata": {
        "id": "lj12j07iP1eg"
      },
      "source": [
        "Notice the first column is unnecessary, as it is just an index. We can *drop* it using pandas' `iloc` method and overwriting `df`:"
      ]
    },
    {
      "cell_type": "code",
      "execution_count": 3,
      "metadata": {
        "id": "2VmP_CEgPxWr"
      },
      "outputs": [
        {
          "data": {
            "text/html": [
              "<div>\n",
              "<style scoped>\n",
              "    .dataframe tbody tr th:only-of-type {\n",
              "        vertical-align: middle;\n",
              "    }\n",
              "\n",
              "    .dataframe tbody tr th {\n",
              "        vertical-align: top;\n",
              "    }\n",
              "\n",
              "    .dataframe thead th {\n",
              "        text-align: right;\n",
              "    }\n",
              "</style>\n",
              "<table border=\"1\" class=\"dataframe\">\n",
              "  <thead>\n",
              "    <tr style=\"text-align: right;\">\n",
              "      <th></th>\n",
              "      <th>crim</th>\n",
              "      <th>zn</th>\n",
              "      <th>indus</th>\n",
              "      <th>chas</th>\n",
              "      <th>nox</th>\n",
              "      <th>rm</th>\n",
              "      <th>age</th>\n",
              "      <th>dis</th>\n",
              "      <th>rad</th>\n",
              "      <th>tax</th>\n",
              "      <th>ptratio</th>\n",
              "      <th>lstat</th>\n",
              "      <th>medv</th>\n",
              "    </tr>\n",
              "  </thead>\n",
              "  <tbody>\n",
              "    <tr>\n",
              "      <th>0</th>\n",
              "      <td>0.00632</td>\n",
              "      <td>18.0</td>\n",
              "      <td>2.31</td>\n",
              "      <td>0</td>\n",
              "      <td>0.538</td>\n",
              "      <td>6.575</td>\n",
              "      <td>65.2</td>\n",
              "      <td>4.0900</td>\n",
              "      <td>1</td>\n",
              "      <td>296</td>\n",
              "      <td>15.3</td>\n",
              "      <td>4.98</td>\n",
              "      <td>24.0</td>\n",
              "    </tr>\n",
              "    <tr>\n",
              "      <th>1</th>\n",
              "      <td>0.02731</td>\n",
              "      <td>0.0</td>\n",
              "      <td>7.07</td>\n",
              "      <td>0</td>\n",
              "      <td>0.469</td>\n",
              "      <td>6.421</td>\n",
              "      <td>78.9</td>\n",
              "      <td>4.9671</td>\n",
              "      <td>2</td>\n",
              "      <td>242</td>\n",
              "      <td>17.8</td>\n",
              "      <td>9.14</td>\n",
              "      <td>21.6</td>\n",
              "    </tr>\n",
              "    <tr>\n",
              "      <th>2</th>\n",
              "      <td>0.02729</td>\n",
              "      <td>0.0</td>\n",
              "      <td>7.07</td>\n",
              "      <td>0</td>\n",
              "      <td>0.469</td>\n",
              "      <td>7.185</td>\n",
              "      <td>61.1</td>\n",
              "      <td>4.9671</td>\n",
              "      <td>2</td>\n",
              "      <td>242</td>\n",
              "      <td>17.8</td>\n",
              "      <td>4.03</td>\n",
              "      <td>34.7</td>\n",
              "    </tr>\n",
              "    <tr>\n",
              "      <th>3</th>\n",
              "      <td>0.03237</td>\n",
              "      <td>0.0</td>\n",
              "      <td>2.18</td>\n",
              "      <td>0</td>\n",
              "      <td>0.458</td>\n",
              "      <td>6.998</td>\n",
              "      <td>45.8</td>\n",
              "      <td>6.0622</td>\n",
              "      <td>3</td>\n",
              "      <td>222</td>\n",
              "      <td>18.7</td>\n",
              "      <td>2.94</td>\n",
              "      <td>33.4</td>\n",
              "    </tr>\n",
              "    <tr>\n",
              "      <th>4</th>\n",
              "      <td>0.06905</td>\n",
              "      <td>0.0</td>\n",
              "      <td>2.18</td>\n",
              "      <td>0</td>\n",
              "      <td>0.458</td>\n",
              "      <td>7.147</td>\n",
              "      <td>54.2</td>\n",
              "      <td>6.0622</td>\n",
              "      <td>3</td>\n",
              "      <td>222</td>\n",
              "      <td>18.7</td>\n",
              "      <td>5.33</td>\n",
              "      <td>36.2</td>\n",
              "    </tr>\n",
              "    <tr>\n",
              "      <th>5</th>\n",
              "      <td>0.02985</td>\n",
              "      <td>0.0</td>\n",
              "      <td>2.18</td>\n",
              "      <td>0</td>\n",
              "      <td>0.458</td>\n",
              "      <td>6.430</td>\n",
              "      <td>58.7</td>\n",
              "      <td>6.0622</td>\n",
              "      <td>3</td>\n",
              "      <td>222</td>\n",
              "      <td>18.7</td>\n",
              "      <td>5.21</td>\n",
              "      <td>28.7</td>\n",
              "    </tr>\n",
              "    <tr>\n",
              "      <th>6</th>\n",
              "      <td>0.08829</td>\n",
              "      <td>12.5</td>\n",
              "      <td>7.87</td>\n",
              "      <td>0</td>\n",
              "      <td>0.524</td>\n",
              "      <td>6.012</td>\n",
              "      <td>66.6</td>\n",
              "      <td>5.5605</td>\n",
              "      <td>5</td>\n",
              "      <td>311</td>\n",
              "      <td>15.2</td>\n",
              "      <td>12.43</td>\n",
              "      <td>22.9</td>\n",
              "    </tr>\n",
              "    <tr>\n",
              "      <th>7</th>\n",
              "      <td>0.14455</td>\n",
              "      <td>12.5</td>\n",
              "      <td>7.87</td>\n",
              "      <td>0</td>\n",
              "      <td>0.524</td>\n",
              "      <td>6.172</td>\n",
              "      <td>96.1</td>\n",
              "      <td>5.9505</td>\n",
              "      <td>5</td>\n",
              "      <td>311</td>\n",
              "      <td>15.2</td>\n",
              "      <td>19.15</td>\n",
              "      <td>27.1</td>\n",
              "    </tr>\n",
              "    <tr>\n",
              "      <th>8</th>\n",
              "      <td>0.21124</td>\n",
              "      <td>12.5</td>\n",
              "      <td>7.87</td>\n",
              "      <td>0</td>\n",
              "      <td>0.524</td>\n",
              "      <td>5.631</td>\n",
              "      <td>100.0</td>\n",
              "      <td>6.0821</td>\n",
              "      <td>5</td>\n",
              "      <td>311</td>\n",
              "      <td>15.2</td>\n",
              "      <td>29.93</td>\n",
              "      <td>16.5</td>\n",
              "    </tr>\n",
              "    <tr>\n",
              "      <th>9</th>\n",
              "      <td>0.17004</td>\n",
              "      <td>12.5</td>\n",
              "      <td>7.87</td>\n",
              "      <td>0</td>\n",
              "      <td>0.524</td>\n",
              "      <td>6.004</td>\n",
              "      <td>85.9</td>\n",
              "      <td>6.5921</td>\n",
              "      <td>5</td>\n",
              "      <td>311</td>\n",
              "      <td>15.2</td>\n",
              "      <td>17.10</td>\n",
              "      <td>18.9</td>\n",
              "    </tr>\n",
              "  </tbody>\n",
              "</table>\n",
              "</div>"
            ],
            "text/plain": [
              "      crim    zn  indus  chas    nox     rm    age     dis  rad  tax  ptratio  \\\n",
              "0  0.00632  18.0   2.31     0  0.538  6.575   65.2  4.0900    1  296     15.3   \n",
              "1  0.02731   0.0   7.07     0  0.469  6.421   78.9  4.9671    2  242     17.8   \n",
              "2  0.02729   0.0   7.07     0  0.469  7.185   61.1  4.9671    2  242     17.8   \n",
              "3  0.03237   0.0   2.18     0  0.458  6.998   45.8  6.0622    3  222     18.7   \n",
              "4  0.06905   0.0   2.18     0  0.458  7.147   54.2  6.0622    3  222     18.7   \n",
              "5  0.02985   0.0   2.18     0  0.458  6.430   58.7  6.0622    3  222     18.7   \n",
              "6  0.08829  12.5   7.87     0  0.524  6.012   66.6  5.5605    5  311     15.2   \n",
              "7  0.14455  12.5   7.87     0  0.524  6.172   96.1  5.9505    5  311     15.2   \n",
              "8  0.21124  12.5   7.87     0  0.524  5.631  100.0  6.0821    5  311     15.2   \n",
              "9  0.17004  12.5   7.87     0  0.524  6.004   85.9  6.5921    5  311     15.2   \n",
              "\n",
              "   lstat  medv  \n",
              "0   4.98  24.0  \n",
              "1   9.14  21.6  \n",
              "2   4.03  34.7  \n",
              "3   2.94  33.4  \n",
              "4   5.33  36.2  \n",
              "5   5.21  28.7  \n",
              "6  12.43  22.9  \n",
              "7  19.15  27.1  \n",
              "8  29.93  16.5  \n",
              "9  17.10  18.9  "
            ]
          },
          "execution_count": 3,
          "metadata": {},
          "output_type": "execute_result"
        }
      ],
      "source": [
        "df = df.iloc[:, 1:]\n",
        "df.head(10)"
      ]
    },
    {
      "cell_type": "markdown",
      "metadata": {
        "id": "4DjcKzgoTZOF"
      },
      "source": [
        "We will first fit a simple linear regression model, using `lstat` as the predictor and `medv` as the response."
      ]
    },
    {
      "cell_type": "code",
      "execution_count": 4,
      "metadata": {
        "id": "_UGRlACUTYXr"
      },
      "outputs": [
        {
          "name": "stdout",
          "output_type": "stream",
          "text": [
            "Coefficient: -0.9500493537579905\n",
            "Intercept: 34.5538408793831\n"
          ]
        }
      ],
      "source": [
        "X = df[['lstat']]\n",
        "y = df['medv']\n",
        "\n",
        "reg = LinearRegression()\n",
        "reg.fit(X, y)\n",
        "\n",
        "coef = reg.coef_[0]\n",
        "inter = reg.intercept_\n",
        "\n",
        "print(f'Coefficient: {coef}')\n",
        "print(f'Intercept: {inter}')"
      ]
    },
    {
      "cell_type": "markdown",
      "metadata": {
        "id": "qpyB1Xb2gsgl"
      },
      "source": [
        "Lets plot both the data and the fitted regression line"
      ]
    },
    {
      "cell_type": "code",
      "execution_count": 6,
      "metadata": {
        "id": "UvTi3IB3QEa9"
      },
      "outputs": [
        {
          "data": {
            "image/png": "[encoded data removed]",
            "text/plain": [
              "<Figure size 640x480 with 1 Axes>"
            ]
          },
          "metadata": {},
          "output_type": "display_data"
        }
      ],
      "source": [
        "# Scatter plot of the data\n",
        "sns.scatterplot(x=df['lstat'], y=df['medv'])\n",
        "\n",
        "# Generate and plot the regression line\n",
        "xmin, xmax= df['lstat'].min(), df['lstat'].max()\n",
        "\n",
        "x_plot = np.linspace(xmin, xmax, 100)\n",
        "y_plot = coef * x_plot + inter\n",
        "# print(x_plot, y_plot)\n",
        "\n",
        "sns.lineplot(x=x_plot, y=y_plot, color='red');"
      ]
    },
    {
      "cell_type": "markdown",
      "metadata": {
        "id": "mQFpnQ48g0Zf"
      },
      "source": [
        "To test how good the model is at predicting *unknown* data, lets perform a train-test split, fit a model to the *training* data and then measure the model accuracy on the *test* set:\n",
        "\n",
        "QUESTION: What is the random_state parameter in the train_test_split method?"
      ]
    },
    {
      "cell_type": "code",
      "execution_count": 11,
      "metadata": {
        "id": "dKdVM1ejWaXO"
      },
      "outputs": [
        {
          "name": "stdout",
          "output_type": "stream",
          "text": [
            "RMSE: 5.789606996393182\n",
            "R2 Score: 0.5429180422970384\n"
          ]
        }
      ],
      "source": [
        "X_train, X_test, y_train, y_test = train_test_split(X, y, test_size=0.2, random_state=42)\n",
        "\n",
        "reg.fit(X_train, y_train)\n",
        "y_pred = reg.predict(X_test)\n",
        "rmse = root_mean_squared_error(y_test, y_pred)\n",
        "r2 = r2_score(y_test, y_pred)\n",
        "\n",
        "print(\"RMSE:\", rmse)\n",
        "print(\"R2 Score:\", r2)"
      ]
    },
    {
      "cell_type": "markdown",
      "metadata": {
        "id": "3bSfKwGsZtLU"
      },
      "source": [
        "### Multiple Linear Regression\n",
        "\n",
        "Lets now consider using 2 predictors instead of just one: `age` and `lstat` and see how that impacts on the model performance.\n",
        "\n",
        "When you notice your code is repetitive, it makes sense to wrap it in a **function** so that you can reuse it later. We will define a `fit_model` function that returns all the variables of interest to us:"
      ]
    },
    {
      "cell_type": "code",
      "execution_count": 12,
      "metadata": {
        "id": "qUgRaYgpaos0"
      },
      "outputs": [],
      "source": [
        "def fit_model(data, preds, response):\n",
        "    X = data[preds]\n",
        "    y = data[response]\n",
        "\n",
        "    reg = LinearRegression()\n",
        "    reg.fit(X, y)\n",
        "\n",
        "    coef = reg.coef_\n",
        "    inter = reg.intercept_\n",
        "\n",
        "    print(f'Coefficients: {coef}')\n",
        "    print(f'Intercept: {inter}')\n",
        "\n",
        "    X_train, X_test, y_train, y_test = train_test_split(X, y, test_size=0.2, random_state=42)\n",
        "    reg.fit(X_train, y_train)\n",
        "    y_pred = reg.predict(X_test)\n",
        "    rmse = root_mean_squared_error(y_test, y_pred)\n",
        "    r2 = r2_score(y_test, y_pred)\n",
        "\n",
        "    print(f'RMSE: {rmse:.3f}')\n",
        "    print(f'R2 Score: {r2:.3f}')\n",
        "    return coef, inter"
      ]
    },
    {
      "cell_type": "markdown",
      "metadata": {
        "id": "85_ssDnnhifW"
      },
      "source": [
        "We can now use our function to try out different models very easily:"
      ]
    },
    {
      "cell_type": "code",
      "execution_count": 13,
      "metadata": {
        "id": "eW5ya_5OYmUw"
      },
      "outputs": [
        {
          "name": "stdout",
          "output_type": "stream",
          "text": [
            "Coefficients: [ 0.03454434 -1.03206856]\n",
            "Intercept: 33.2227605317929\n",
            "RMSE: 5.818\n",
            "R2 Score: 0.538\n"
          ]
        },
        {
          "data": {
            "text/plain": [
              "(array([ 0.03454434, -1.03206856]), 33.2227605317929)"
            ]
          },
          "execution_count": 13,
          "metadata": {},
          "output_type": "execute_result"
        }
      ],
      "source": [
        "preds = ['age', 'lstat']\n",
        "response = 'medv'\n",
        "\n",
        "fit_model(df, preds, response)"
      ]
    },
    {
      "cell_type": "markdown",
      "metadata": {
        "id": "GRxbtjSwby_a"
      },
      "source": [
        "Adding `age` didn't improve the predictions much. Lets instead add a quadratic `lstat` transformation to the model:"
      ]
    },
    {
      "cell_type": "code",
      "execution_count": 14,
      "metadata": {
        "id": "2s600tgVbswl"
      },
      "outputs": [
        {
          "name": "stdout",
          "output_type": "stream",
          "text": [
            "Coefficients: [-2.3328211   0.04354689]\n",
            "Intercept: 42.862007328169334\n",
            "RMSE: 5.231\n",
            "R2 Score: 0.627\n"
          ]
        }
      ],
      "source": [
        "df['lstat^2'] = df['lstat'] ** 2\n",
        "\n",
        "preds = ['lstat', 'lstat^2']\n",
        "response = 'medv'\n",
        "\n",
        "coef, inter = fit_model(df, preds, response)"
      ]
    },
    {
      "cell_type": "markdown",
      "metadata": {
        "id": "mx_35jdOh3Yg"
      },
      "source": [
        "This is a much better fit! Lets plot the fitted curve\n",
        "$$\n",
        "\\text{medv} = -2.333 \\cdot \\text{lstat} + 0.044 \\cdot \\text{lstat}^2 + 42.862\n",
        "$$"
      ]
    },
    {
      "cell_type": "code",
      "execution_count": 15,
      "metadata": {
        "id": "_h1W6asXcF-m"
      },
      "outputs": [
        {
          "data": {
            "image/png": "[encoded data removed]",
            "text/plain": [
              "<Figure size 640x480 with 1 Axes>"
            ]
          },
          "metadata": {},
          "output_type": "display_data"
        }
      ],
      "source": [
        "# Scatter plot of the data\n",
        "sns.scatterplot(x=df['lstat'], y=df['medv'])\n",
        "\n",
        "# Add quadratic regression curve\n",
        "xmin, xmax = df['lstat'].min(), df['lstat'].max()\n",
        "x_plot = np.linspace(xmin, xmax, 100)\n",
        "y_plot = coef[0] * x_plot + coef[1] * x_plot ** 2 + inter\n",
        "sns.lineplot(x=x_plot, y=y_plot, color='red');"
      ]
    },
    {
      "cell_type": "markdown",
      "metadata": {
        "id": "Ca46fpvUf40N"
      },
      "source": [
        "Now try it yourself!\n",
        "\n",
        "Load the `Auto` dataset from the module repository, and fit a simple regression model using `mpg` as response and `horsepower` as the predictor.\n",
        "\n",
        "Try performing some transformations over `horsepower` and see if adding them to the model improves its performance."
      ]
    },
    {
      "cell_type": "code",
      "execution_count": 24,
      "metadata": {
        "id": "j8ENuKWn2dUA"
      },
      "outputs": [
        {
          "data": {
            "text/html": [
              "<div>\n",
              "<style scoped>\n",
              "    .dataframe tbody tr th:only-of-type {\n",
              "        vertical-align: middle;\n",
              "    }\n",
              "\n",
              "    .dataframe tbody tr th {\n",
              "        vertical-align: top;\n",
              "    }\n",
              "\n",
              "    .dataframe thead th {\n",
              "        text-align: right;\n",
              "    }\n",
              "</style>\n",
              "<table border=\"1\" class=\"dataframe\">\n",
              "  <thead>\n",
              "    <tr style=\"text-align: right;\">\n",
              "      <th></th>\n",
              "      <th>mpg</th>\n",
              "      <th>cylinders</th>\n",
              "      <th>displacement</th>\n",
              "      <th>horsepower</th>\n",
              "      <th>weight</th>\n",
              "      <th>acceleration</th>\n",
              "      <th>year</th>\n",
              "      <th>origin</th>\n",
              "      <th>name</th>\n",
              "    </tr>\n",
              "  </thead>\n",
              "  <tbody>\n",
              "    <tr>\n",
              "      <th>0</th>\n",
              "      <td>18.0</td>\n",
              "      <td>8</td>\n",
              "      <td>307.0</td>\n",
              "      <td>130.0</td>\n",
              "      <td>3504</td>\n",
              "      <td>12.0</td>\n",
              "      <td>70</td>\n",
              "      <td>1</td>\n",
              "      <td>chevrolet chevelle malibu</td>\n",
              "    </tr>\n",
              "    <tr>\n",
              "      <th>1</th>\n",
              "      <td>15.0</td>\n",
              "      <td>8</td>\n",
              "      <td>350.0</td>\n",
              "      <td>165.0</td>\n",
              "      <td>3693</td>\n",
              "      <td>11.5</td>\n",
              "      <td>70</td>\n",
              "      <td>1</td>\n",
              "      <td>buick skylark 320</td>\n",
              "    </tr>\n",
              "    <tr>\n",
              "      <th>2</th>\n",
              "      <td>18.0</td>\n",
              "      <td>8</td>\n",
              "      <td>318.0</td>\n",
              "      <td>150.0</td>\n",
              "      <td>3436</td>\n",
              "      <td>11.0</td>\n",
              "      <td>70</td>\n",
              "      <td>1</td>\n",
              "      <td>plymouth satellite</td>\n",
              "    </tr>\n",
              "    <tr>\n",
              "      <th>3</th>\n",
              "      <td>16.0</td>\n",
              "      <td>8</td>\n",
              "      <td>304.0</td>\n",
              "      <td>150.0</td>\n",
              "      <td>3433</td>\n",
              "      <td>12.0</td>\n",
              "      <td>70</td>\n",
              "      <td>1</td>\n",
              "      <td>amc rebel sst</td>\n",
              "    </tr>\n",
              "    <tr>\n",
              "      <th>4</th>\n",
              "      <td>17.0</td>\n",
              "      <td>8</td>\n",
              "      <td>302.0</td>\n",
              "      <td>140.0</td>\n",
              "      <td>3449</td>\n",
              "      <td>10.5</td>\n",
              "      <td>70</td>\n",
              "      <td>1</td>\n",
              "      <td>ford torino</td>\n",
              "    </tr>\n",
              "    <tr>\n",
              "      <th>5</th>\n",
              "      <td>15.0</td>\n",
              "      <td>8</td>\n",
              "      <td>429.0</td>\n",
              "      <td>198.0</td>\n",
              "      <td>4341</td>\n",
              "      <td>10.0</td>\n",
              "      <td>70</td>\n",
              "      <td>1</td>\n",
              "      <td>ford galaxie 500</td>\n",
              "    </tr>\n",
              "    <tr>\n",
              "      <th>6</th>\n",
              "      <td>14.0</td>\n",
              "      <td>8</td>\n",
              "      <td>454.0</td>\n",
              "      <td>220.0</td>\n",
              "      <td>4354</td>\n",
              "      <td>9.0</td>\n",
              "      <td>70</td>\n",
              "      <td>1</td>\n",
              "      <td>chevrolet impala</td>\n",
              "    </tr>\n",
              "    <tr>\n",
              "      <th>7</th>\n",
              "      <td>14.0</td>\n",
              "      <td>8</td>\n",
              "      <td>440.0</td>\n",
              "      <td>215.0</td>\n",
              "      <td>4312</td>\n",
              "      <td>8.5</td>\n",
              "      <td>70</td>\n",
              "      <td>1</td>\n",
              "      <td>plymouth fury iii</td>\n",
              "    </tr>\n",
              "    <tr>\n",
              "      <th>8</th>\n",
              "      <td>14.0</td>\n",
              "      <td>8</td>\n",
              "      <td>455.0</td>\n",
              "      <td>225.0</td>\n",
              "      <td>4425</td>\n",
              "      <td>10.0</td>\n",
              "      <td>70</td>\n",
              "      <td>1</td>\n",
              "      <td>pontiac catalina</td>\n",
              "    </tr>\n",
              "    <tr>\n",
              "      <th>9</th>\n",
              "      <td>15.0</td>\n",
              "      <td>8</td>\n",
              "      <td>390.0</td>\n",
              "      <td>190.0</td>\n",
              "      <td>3850</td>\n",
              "      <td>8.5</td>\n",
              "      <td>70</td>\n",
              "      <td>1</td>\n",
              "      <td>amc ambassador dpl</td>\n",
              "    </tr>\n",
              "  </tbody>\n",
              "</table>\n",
              "</div>"
            ],
            "text/plain": [
              "    mpg  cylinders  displacement  horsepower  weight  acceleration  year  \\\n",
              "0  18.0          8         307.0       130.0    3504          12.0    70   \n",
              "1  15.0          8         350.0       165.0    3693          11.5    70   \n",
              "2  18.0          8         318.0       150.0    3436          11.0    70   \n",
              "3  16.0          8         304.0       150.0    3433          12.0    70   \n",
              "4  17.0          8         302.0       140.0    3449          10.5    70   \n",
              "5  15.0          8         429.0       198.0    4341          10.0    70   \n",
              "6  14.0          8         454.0       220.0    4354           9.0    70   \n",
              "7  14.0          8         440.0       215.0    4312           8.5    70   \n",
              "8  14.0          8         455.0       225.0    4425          10.0    70   \n",
              "9  15.0          8         390.0       190.0    3850           8.5    70   \n",
              "\n",
              "   origin                       name  \n",
              "0       1  chevrolet chevelle malibu  \n",
              "1       1          buick skylark 320  \n",
              "2       1         plymouth satellite  \n",
              "3       1              amc rebel sst  \n",
              "4       1                ford torino  \n",
              "5       1           ford galaxie 500  \n",
              "6       1           chevrolet impala  \n",
              "7       1          plymouth fury iii  \n",
              "8       1           pontiac catalina  \n",
              "9       1         amc ambassador dpl  "
            ]
          },
          "execution_count": 24,
          "metadata": {},
          "output_type": "execute_result"
        }
      ],
      "source": [
        "path = 'https://github.com/vladoxNCL//raw/main/Auto.ml_coursecsv'\n",
        "autodf = pd.read_csv(path, na_values='?')\n",
        "autodf.head(10)"
      ]
    },
    {
      "cell_type": "code",
      "execution_count": 22,
      "metadata": {},
      "outputs": [
        {
          "data": {
            "text/plain": [
              "mpg             float64\n",
              "cylinders         int64\n",
              "displacement    float64\n",
              "horsepower       object\n",
              "weight            int64\n",
              "acceleration    float64\n",
              "year              int64\n",
              "origin            int64\n",
              "name             object\n",
              "dtype: object"
            ]
          },
          "execution_count": 22,
          "metadata": {},
          "output_type": "execute_result"
        }
      ],
      "source": [
        "autodf.dtypes"
      ]
    },
    {
      "cell_type": "markdown",
      "metadata": {},
      "source": [
        "FItting the model and getting the coefs"
      ]
    },
    {
      "cell_type": "code",
      "execution_count": 26,
      "metadata": {},
      "outputs": [
        {
          "name": "stdout",
          "output_type": "stream",
          "text": [
            "Coefficients: [-0.15784473]\n",
            "Intercept: 40.005811671455774\n",
            "RMSE: 4.969\n",
            "R2 Score: 0.598\n"
          ]
        },
        {
          "name": "stderr",
          "output_type": "stream",
          "text": [
            "C:\\Users\\Computer Science\\AppData\\Local\\Temp\\ipykernel_2432\\3435112189.py:6: FutureWarning: A value is trying to be set on a copy of a DataFrame or Series through chained assignment using an inplace method.\n",
            "The behavior will change in pandas 3.0. This inplace method will never work because the intermediate object on which we are setting values always behaves as a copy.\n",
            "\n",
            "For example, when doing 'df[col].method(value, inplace=True)', try using 'df.method({col: value}, inplace=True)' or df[col] = df[col].method(value) instead, to perform the operation inplace on the original object.\n",
            "\n",
            "\n",
            "  autodf['horsepower'].fillna(autodf['horsepower'].mean(), inplace=True)\n"
          ]
        },
        {
          "data": {
            "text/plain": [
              "<Axes: xlabel='horsepower', ylabel='mpg'>"
            ]
          },
          "execution_count": 26,
          "metadata": {},
          "output_type": "execute_result"
        },
        {
          "data": {
            "image/png": "[encoded data removed]",
            "text/plain": [
              "<Figure size 640x480 with 1 Axes>"
            ]
          },
          "metadata": {},
          "output_type": "display_data"
        }
      ],
      "source": [
        "data = autodf\n",
        "preds = ['horsepower']\n",
        "response = 'mpg'\n",
        "\n",
        "# imputing missing values with mean\n",
        "autodf['horsepower'].fillna(autodf['horsepower'].mean(), inplace=True)\n",
        "\n",
        "#converting values to float\n",
        "autodf['horsepower'] = autodf['horsepower'].astype(float)\n",
        "\n",
        "# fit_model(data, preds, response)\n",
        "\n",
        "coef, inter = fit_model(data, preds, response)\n",
        "\n",
        "# plotting scatterplot\n",
        "sns.scatterplot(x=autodf['horsepower'], y=autodf['mpg'])\n",
        "\n",
        "# plotting regression line\n",
        "xmin, xmax = autodf['horsepower'].min(), autodf['horsepower'].max()\n",
        "x_plot = np.linspace(xmin, xmax, 100)\n",
        "y_plot = coef * x_plot + inter\n",
        "sns.lineplot(x=x_plot, y=y_plot, color='red')\n"
      ]
    },
    {
      "cell_type": "markdown",
      "metadata": {},
      "source": [
        "### Transforming horsepower to horsepower^2\n",
        "predicting mpg using horsepower^2"
      ]
    },
    {
      "cell_type": "code",
      "execution_count": 27,
      "metadata": {},
      "outputs": [
        {
          "name": "stdout",
          "output_type": "stream",
          "text": [
            "Coefficients: [-0.45577787  0.00118899]\n",
            "Intercept: 56.41935479857773\n",
            "RMSE: 4.595\n",
            "R2 Score: 0.656\n"
          ]
        },
        {
          "data": {
            "text/plain": [
              "<Axes: xlabel='horsepower', ylabel='mpg'>"
            ]
          },
          "execution_count": 27,
          "metadata": {},
          "output_type": "execute_result"
        },
        {
          "data": {
            "image/png": "[encoded data removed]",
            "text/plain": [
              "<Figure size 640x480 with 1 Axes>"
            ]
          },
          "metadata": {},
          "output_type": "display_data"
        }
      ],
      "source": [
        "autodf['horsepower^2'] = autodf['horsepower'] ** 2\n",
        "preds = ['horsepower', 'horsepower^2']\n",
        "response = 'mpg'\n",
        "\n",
        "coef, inter = fit_model(data, preds, response)\n",
        "\n",
        "# plotting scatterplot\n",
        "sns.scatterplot(x=autodf['horsepower'], y=autodf['mpg'])\n",
        "\n",
        "# plotting regression line\n",
        "xmin, xmax = autodf['horsepower'].min(), autodf['horsepower'].max()\n",
        "x_plot = np.linspace(xmin, xmax, 100)\n",
        "y_plot = coef[0] * x_plot + coef[1] * x_plot ** 2 + inter\n",
        "sns.lineplot(x=x_plot, y=y_plot, color='red')"
      ]
    },
    {
      "cell_type": "markdown",
      "metadata": {
        "id": "Foh4eISKuiv1"
      },
      "source": [
        "### Hands On Extra\n",
        "\n",
        "This question should be answered using the `Carseats` data set.\n",
        "\n",
        "1. Fit a multiple regression model to predict `Sales` using `Price`, `Urban`, and `US`\n",
        "2. Provide an interpretation of each coefficient in the model. Be careful, some of the variables in the model are qualitative.\n",
        "3. Write out the model in equation form, being careful to handle the qualitative variables properly.\n",
        "4. How well does the model fit the data?"
      ]
    },
    {
      "cell_type": "code",
      "execution_count": 30,
      "metadata": {
        "id": "Rr88F9i3vGxk"
      },
      "outputs": [
        {
          "data": {
            "text/html": [
              "<div>\n",
              "<style scoped>\n",
              "    .dataframe tbody tr th:only-of-type {\n",
              "        vertical-align: middle;\n",
              "    }\n",
              "\n",
              "    .dataframe tbody tr th {\n",
              "        vertical-align: top;\n",
              "    }\n",
              "\n",
              "    .dataframe thead th {\n",
              "        text-align: right;\n",
              "    }\n",
              "</style>\n",
              "<table border=\"1\" class=\"dataframe\">\n",
              "  <thead>\n",
              "    <tr style=\"text-align: right;\">\n",
              "      <th></th>\n",
              "      <th>Sales</th>\n",
              "      <th>CompPrice</th>\n",
              "      <th>Income</th>\n",
              "      <th>Advertising</th>\n",
              "      <th>Population</th>\n",
              "      <th>Price</th>\n",
              "      <th>ShelveLoc</th>\n",
              "      <th>Age</th>\n",
              "      <th>Education</th>\n",
              "      <th>Urban</th>\n",
              "      <th>US</th>\n",
              "    </tr>\n",
              "  </thead>\n",
              "  <tbody>\n",
              "    <tr>\n",
              "      <th>0</th>\n",
              "      <td>9.50</td>\n",
              "      <td>138</td>\n",
              "      <td>73</td>\n",
              "      <td>11</td>\n",
              "      <td>276</td>\n",
              "      <td>120</td>\n",
              "      <td>Bad</td>\n",
              "      <td>42</td>\n",
              "      <td>17</td>\n",
              "      <td>Yes</td>\n",
              "      <td>Yes</td>\n",
              "    </tr>\n",
              "    <tr>\n",
              "      <th>1</th>\n",
              "      <td>11.22</td>\n",
              "      <td>111</td>\n",
              "      <td>48</td>\n",
              "      <td>16</td>\n",
              "      <td>260</td>\n",
              "      <td>83</td>\n",
              "      <td>Good</td>\n",
              "      <td>65</td>\n",
              "      <td>10</td>\n",
              "      <td>Yes</td>\n",
              "      <td>Yes</td>\n",
              "    </tr>\n",
              "    <tr>\n",
              "      <th>2</th>\n",
              "      <td>10.06</td>\n",
              "      <td>113</td>\n",
              "      <td>35</td>\n",
              "      <td>10</td>\n",
              "      <td>269</td>\n",
              "      <td>80</td>\n",
              "      <td>Medium</td>\n",
              "      <td>59</td>\n",
              "      <td>12</td>\n",
              "      <td>Yes</td>\n",
              "      <td>Yes</td>\n",
              "    </tr>\n",
              "    <tr>\n",
              "      <th>3</th>\n",
              "      <td>7.40</td>\n",
              "      <td>117</td>\n",
              "      <td>100</td>\n",
              "      <td>4</td>\n",
              "      <td>466</td>\n",
              "      <td>97</td>\n",
              "      <td>Medium</td>\n",
              "      <td>55</td>\n",
              "      <td>14</td>\n",
              "      <td>Yes</td>\n",
              "      <td>Yes</td>\n",
              "    </tr>\n",
              "    <tr>\n",
              "      <th>4</th>\n",
              "      <td>4.15</td>\n",
              "      <td>141</td>\n",
              "      <td>64</td>\n",
              "      <td>3</td>\n",
              "      <td>340</td>\n",
              "      <td>128</td>\n",
              "      <td>Bad</td>\n",
              "      <td>38</td>\n",
              "      <td>13</td>\n",
              "      <td>Yes</td>\n",
              "      <td>No</td>\n",
              "    </tr>\n",
              "    <tr>\n",
              "      <th>5</th>\n",
              "      <td>10.81</td>\n",
              "      <td>124</td>\n",
              "      <td>113</td>\n",
              "      <td>13</td>\n",
              "      <td>501</td>\n",
              "      <td>72</td>\n",
              "      <td>Bad</td>\n",
              "      <td>78</td>\n",
              "      <td>16</td>\n",
              "      <td>No</td>\n",
              "      <td>Yes</td>\n",
              "    </tr>\n",
              "    <tr>\n",
              "      <th>6</th>\n",
              "      <td>6.63</td>\n",
              "      <td>115</td>\n",
              "      <td>105</td>\n",
              "      <td>0</td>\n",
              "      <td>45</td>\n",
              "      <td>108</td>\n",
              "      <td>Medium</td>\n",
              "      <td>71</td>\n",
              "      <td>15</td>\n",
              "      <td>Yes</td>\n",
              "      <td>No</td>\n",
              "    </tr>\n",
              "    <tr>\n",
              "      <th>7</th>\n",
              "      <td>11.85</td>\n",
              "      <td>136</td>\n",
              "      <td>81</td>\n",
              "      <td>15</td>\n",
              "      <td>425</td>\n",
              "      <td>120</td>\n",
              "      <td>Good</td>\n",
              "      <td>67</td>\n",
              "      <td>10</td>\n",
              "      <td>Yes</td>\n",
              "      <td>Yes</td>\n",
              "    </tr>\n",
              "    <tr>\n",
              "      <th>8</th>\n",
              "      <td>6.54</td>\n",
              "      <td>132</td>\n",
              "      <td>110</td>\n",
              "      <td>0</td>\n",
              "      <td>108</td>\n",
              "      <td>124</td>\n",
              "      <td>Medium</td>\n",
              "      <td>76</td>\n",
              "      <td>10</td>\n",
              "      <td>No</td>\n",
              "      <td>No</td>\n",
              "    </tr>\n",
              "    <tr>\n",
              "      <th>9</th>\n",
              "      <td>4.69</td>\n",
              "      <td>132</td>\n",
              "      <td>113</td>\n",
              "      <td>0</td>\n",
              "      <td>131</td>\n",
              "      <td>124</td>\n",
              "      <td>Medium</td>\n",
              "      <td>76</td>\n",
              "      <td>17</td>\n",
              "      <td>No</td>\n",
              "      <td>Yes</td>\n",
              "    </tr>\n",
              "  </tbody>\n",
              "</table>\n",
              "</div>"
            ],
            "text/plain": [
              "   Sales  CompPrice  Income  Advertising  Population  Price ShelveLoc  Age  \\\n",
              "0   9.50        138      73           11         276    120       Bad   42   \n",
              "1  11.22        111      48           16         260     83      Good   65   \n",
              "2  10.06        113      35           10         269     80    Medium   59   \n",
              "3   7.40        117     100            4         466     97    Medium   55   \n",
              "4   4.15        141      64            3         340    128       Bad   38   \n",
              "5  10.81        124     113           13         501     72       Bad   78   \n",
              "6   6.63        115     105            0          45    108    Medium   71   \n",
              "7  11.85        136      81           15         425    120      Good   67   \n",
              "8   6.54        132     110            0         108    124    Medium   76   \n",
              "9   4.69        132     113            0         131    124    Medium   76   \n",
              "\n",
              "   Education Urban   US  \n",
              "0         17   Yes  Yes  \n",
              "1         10   Yes  Yes  \n",
              "2         12   Yes  Yes  \n",
              "3         14   Yes  Yes  \n",
              "4         13   Yes   No  \n",
              "5         16    No  Yes  \n",
              "6         15   Yes   No  \n",
              "7         10   Yes  Yes  \n",
              "8         10    No   No  \n",
              "9         17    No  Yes  "
            ]
          },
          "execution_count": 30,
          "metadata": {},
          "output_type": "execute_result"
        }
      ],
      "source": [
        "path='https://raw.githubusercontent.com/vladoxNCL/ml_course/refs/heads/main/Carseats.csv'\n",
        "df = pd.read_csv(path)\n",
        "df.head(10)"
      ]
    },
    {
      "cell_type": "code",
      "execution_count": 31,
      "metadata": {},
      "outputs": [
        {
          "data": {
            "text/plain": [
              "Sales          float64\n",
              "CompPrice        int64\n",
              "Income           int64\n",
              "Advertising      int64\n",
              "Population       int64\n",
              "Price            int64\n",
              "ShelveLoc       object\n",
              "Age              int64\n",
              "Education        int64\n",
              "Urban           object\n",
              "US              object\n",
              "dtype: object"
            ]
          },
          "execution_count": 31,
          "metadata": {},
          "output_type": "execute_result"
        }
      ],
      "source": [
        "df.dtypes"
      ]
    },
    {
      "cell_type": "code",
      "execution_count": 32,
      "metadata": {},
      "outputs": [
        {
          "data": {
            "text/html": [
              "<div>\n",
              "<style scoped>\n",
              "    .dataframe tbody tr th:only-of-type {\n",
              "        vertical-align: middle;\n",
              "    }\n",
              "\n",
              "    .dataframe tbody tr th {\n",
              "        vertical-align: top;\n",
              "    }\n",
              "\n",
              "    .dataframe thead th {\n",
              "        text-align: right;\n",
              "    }\n",
              "</style>\n",
              "<table border=\"1\" class=\"dataframe\">\n",
              "  <thead>\n",
              "    <tr style=\"text-align: right;\">\n",
              "      <th></th>\n",
              "      <th>Sales</th>\n",
              "      <th>CompPrice</th>\n",
              "      <th>Income</th>\n",
              "      <th>Advertising</th>\n",
              "      <th>Population</th>\n",
              "      <th>Price</th>\n",
              "      <th>ShelveLoc</th>\n",
              "      <th>Age</th>\n",
              "      <th>Education</th>\n",
              "      <th>Urban</th>\n",
              "      <th>US</th>\n",
              "    </tr>\n",
              "  </thead>\n",
              "  <tbody>\n",
              "    <tr>\n",
              "      <th>0</th>\n",
              "      <td>9.50</td>\n",
              "      <td>138</td>\n",
              "      <td>73</td>\n",
              "      <td>11</td>\n",
              "      <td>276</td>\n",
              "      <td>120</td>\n",
              "      <td>Bad</td>\n",
              "      <td>42</td>\n",
              "      <td>17</td>\n",
              "      <td>1</td>\n",
              "      <td>1</td>\n",
              "    </tr>\n",
              "    <tr>\n",
              "      <th>1</th>\n",
              "      <td>11.22</td>\n",
              "      <td>111</td>\n",
              "      <td>48</td>\n",
              "      <td>16</td>\n",
              "      <td>260</td>\n",
              "      <td>83</td>\n",
              "      <td>Good</td>\n",
              "      <td>65</td>\n",
              "      <td>10</td>\n",
              "      <td>1</td>\n",
              "      <td>1</td>\n",
              "    </tr>\n",
              "    <tr>\n",
              "      <th>2</th>\n",
              "      <td>10.06</td>\n",
              "      <td>113</td>\n",
              "      <td>35</td>\n",
              "      <td>10</td>\n",
              "      <td>269</td>\n",
              "      <td>80</td>\n",
              "      <td>Medium</td>\n",
              "      <td>59</td>\n",
              "      <td>12</td>\n",
              "      <td>1</td>\n",
              "      <td>1</td>\n",
              "    </tr>\n",
              "    <tr>\n",
              "      <th>3</th>\n",
              "      <td>7.40</td>\n",
              "      <td>117</td>\n",
              "      <td>100</td>\n",
              "      <td>4</td>\n",
              "      <td>466</td>\n",
              "      <td>97</td>\n",
              "      <td>Medium</td>\n",
              "      <td>55</td>\n",
              "      <td>14</td>\n",
              "      <td>1</td>\n",
              "      <td>1</td>\n",
              "    </tr>\n",
              "    <tr>\n",
              "      <th>4</th>\n",
              "      <td>4.15</td>\n",
              "      <td>141</td>\n",
              "      <td>64</td>\n",
              "      <td>3</td>\n",
              "      <td>340</td>\n",
              "      <td>128</td>\n",
              "      <td>Bad</td>\n",
              "      <td>38</td>\n",
              "      <td>13</td>\n",
              "      <td>1</td>\n",
              "      <td>0</td>\n",
              "    </tr>\n",
              "    <tr>\n",
              "      <th>5</th>\n",
              "      <td>10.81</td>\n",
              "      <td>124</td>\n",
              "      <td>113</td>\n",
              "      <td>13</td>\n",
              "      <td>501</td>\n",
              "      <td>72</td>\n",
              "      <td>Bad</td>\n",
              "      <td>78</td>\n",
              "      <td>16</td>\n",
              "      <td>0</td>\n",
              "      <td>1</td>\n",
              "    </tr>\n",
              "    <tr>\n",
              "      <th>6</th>\n",
              "      <td>6.63</td>\n",
              "      <td>115</td>\n",
              "      <td>105</td>\n",
              "      <td>0</td>\n",
              "      <td>45</td>\n",
              "      <td>108</td>\n",
              "      <td>Medium</td>\n",
              "      <td>71</td>\n",
              "      <td>15</td>\n",
              "      <td>1</td>\n",
              "      <td>0</td>\n",
              "    </tr>\n",
              "    <tr>\n",
              "      <th>7</th>\n",
              "      <td>11.85</td>\n",
              "      <td>136</td>\n",
              "      <td>81</td>\n",
              "      <td>15</td>\n",
              "      <td>425</td>\n",
              "      <td>120</td>\n",
              "      <td>Good</td>\n",
              "      <td>67</td>\n",
              "      <td>10</td>\n",
              "      <td>1</td>\n",
              "      <td>1</td>\n",
              "    </tr>\n",
              "    <tr>\n",
              "      <th>8</th>\n",
              "      <td>6.54</td>\n",
              "      <td>132</td>\n",
              "      <td>110</td>\n",
              "      <td>0</td>\n",
              "      <td>108</td>\n",
              "      <td>124</td>\n",
              "      <td>Medium</td>\n",
              "      <td>76</td>\n",
              "      <td>10</td>\n",
              "      <td>0</td>\n",
              "      <td>0</td>\n",
              "    </tr>\n",
              "    <tr>\n",
              "      <th>9</th>\n",
              "      <td>4.69</td>\n",
              "      <td>132</td>\n",
              "      <td>113</td>\n",
              "      <td>0</td>\n",
              "      <td>131</td>\n",
              "      <td>124</td>\n",
              "      <td>Medium</td>\n",
              "      <td>76</td>\n",
              "      <td>17</td>\n",
              "      <td>0</td>\n",
              "      <td>1</td>\n",
              "    </tr>\n",
              "  </tbody>\n",
              "</table>\n",
              "</div>"
            ],
            "text/plain": [
              "   Sales  CompPrice  Income  Advertising  Population  Price ShelveLoc  Age  \\\n",
              "0   9.50        138      73           11         276    120       Bad   42   \n",
              "1  11.22        111      48           16         260     83      Good   65   \n",
              "2  10.06        113      35           10         269     80    Medium   59   \n",
              "3   7.40        117     100            4         466     97    Medium   55   \n",
              "4   4.15        141      64            3         340    128       Bad   38   \n",
              "5  10.81        124     113           13         501     72       Bad   78   \n",
              "6   6.63        115     105            0          45    108    Medium   71   \n",
              "7  11.85        136      81           15         425    120      Good   67   \n",
              "8   6.54        132     110            0         108    124    Medium   76   \n",
              "9   4.69        132     113            0         131    124    Medium   76   \n",
              "\n",
              "   Education  Urban  US  \n",
              "0         17      1   1  \n",
              "1         10      1   1  \n",
              "2         12      1   1  \n",
              "3         14      1   1  \n",
              "4         13      1   0  \n",
              "5         16      0   1  \n",
              "6         15      1   0  \n",
              "7         10      1   1  \n",
              "8         10      0   0  \n",
              "9         17      0   1  "
            ]
          },
          "execution_count": 32,
          "metadata": {},
          "output_type": "execute_result"
        }
      ],
      "source": [
        "df['Urban'] = df['Urban'].map({'Yes': 1, 'No': 0})\n",
        "df['US'] = df['US'].map({'Yes': 1, 'No': 0})\n",
        "\n",
        "df.head(10)"
      ]
    },
    {
      "cell_type": "code",
      "execution_count": 39,
      "metadata": {},
      "outputs": [
        {
          "name": "stdout",
          "output_type": "stream",
          "text": [
            "Coefficients: [-0.05445885  1.2005727  -0.02191615]\n",
            "Intercept: 13.043468936764892\n",
            "RMSE: 2.788\n",
            "R2 Score: 0.214\n"
          ]
        },
        {
          "data": {
            "text/plain": [
              "<Axes: xlabel='Price', ylabel='Sales'>"
            ]
          },
          "execution_count": 39,
          "metadata": {},
          "output_type": "execute_result"
        },
        {
          "data": {
            "image/png": "[encoded data removed]",
            "text/plain": [
              "<Figure size 640x480 with 1 Axes>"
            ]
          },
          "metadata": {},
          "output_type": "display_data"
        }
      ],
      "source": [
        "preds=['Price', 'US', 'Urban']\n",
        "response='Sales'\n",
        "\n",
        "x = df[preds]\n",
        "y = df[response]\n",
        "\n",
        "coefs, inter = fit_model(df, preds, response)\n",
        "\n",
        "# scatter plot\n",
        "sns.scatterplot(x=df['Price'], y=df['Sales'])\n",
        "\n",
        "# regression line\n",
        "\n",
        "x_min, x_max = df['Price'].min(), df['Price'].max()\n",
        "x_plot = np.linspace(x_min, x_max, 100)\n",
        "y_plot_us = coefs[0] * x_plot + coefs[1] * 1 + coefs[2] * 1 + inter\n",
        "y_plot_not_us = coefs[0] * x_plot + coefs[1] * 0 + coefs[2] * 1 + inter\n",
        "\n",
        "\n",
        "\n",
        "sns.lineplot(x=x_plot, y=y_plot_us, color='red', label='US')\n",
        "sns.lineplot(x=x_plot, y=y_plot_not_us, color='green', label='Not US')\n",
        "\n"
      ]
    },
    {
      "cell_type": "markdown",
      "metadata": {
        "id": "OIvIc3tKZ5pu"
      },
      "source": [
        "## EXTRA: Using `statsmodels`\n",
        "\n",
        "An alternative to `sklearn` is `statsmodels`. This package has a much narrower selection of models, but it provides with a lot of additional stats about the model that might come in handy at analysing variable importances (using the variables' $p$-values) and plotting confidence intervals. The following example gives you an idea of how to use this package."
      ]
    },
    {
      "cell_type": "code",
      "execution_count": 40,
      "metadata": {
        "id": "XOSthRXWYxKw"
      },
      "outputs": [],
      "source": [
        "# import statsmodels\n",
        "\n",
        "import statsmodels.api as sm\n",
        "from statsmodels.sandbox.regression.predstd import wls_prediction_std\n",
        "from statsmodels.tools.eval_measures import mse"
      ]
    },
    {
      "cell_type": "markdown",
      "metadata": {
        "id": "yP3UyxYGlaHA"
      },
      "source": [
        "Lets generate some sythetic data from the following relationship:\n",
        "\n",
        "$$\n",
        "    y = 0.5 + x + x^3 + \\epsilon\n",
        "$$\n",
        "\n",
        "Notice that there is no $x^2$ term in the equation. This should be detected by the $p$-value for $x^2$ in the resulting model (a predictor is important only if its associated $p$-value is **very** close to $0$)"
      ]
    },
    {
      "cell_type": "code",
      "execution_count": 41,
      "metadata": {
        "id": "zvjm3u7tYxKw"
      },
      "outputs": [],
      "source": [
        "# random number generator\n",
        "rng = np.random.default_rng(seed=12345)\n",
        "\n",
        "# generate X\n",
        "n_sample = 100\n",
        "x = rng.uniform(-1, 1, n_sample)\n",
        "x = np.sort(x)\n",
        "X = np.column_stack((x, x**2, x**3))\n",
        "\n",
        "# add column of 1s for intercept\n",
        "X = sm.add_constant(X)\n",
        "\n",
        "# generate y\n",
        "beta = np.array([0.5, 1, 0, 2])\n",
        "y_gen = np.dot(X, beta)\n",
        "\n",
        "# add random noise to data (the epsilon term)\n",
        "e = 0.5 * rng.normal(size=n_sample)\n",
        "y = y_gen + e"
      ]
    },
    {
      "cell_type": "markdown",
      "metadata": {
        "id": "oH9u3xkZnDRs"
      },
      "source": [
        "Now, lets fit our model using `statsmodels`, and print a summary of it.\n",
        "\n",
        "Note that in `statsmodels`, linear regression is called `OLS`, short for *ordinary least squares*"
      ]
    },
    {
      "cell_type": "code",
      "execution_count": 42,
      "metadata": {
        "id": "qR3v7h_BhixG"
      },
      "outputs": [
        {
          "name": "stdout",
          "output_type": "stream",
          "text": [
            "                            OLS Regression Results                            \n",
            "==============================================================================\n",
            "Dep. Variable:                      y   R-squared:                       0.859\n",
            "Model:                            OLS   Adj. R-squared:                  0.855\n",
            "Method:                 Least Squares   F-statistic:                     195.7\n",
            "Date:                Thu, 17 Oct 2024   Prob (F-statistic):           9.03e-41\n",
            "Time:                        16:31:22   Log-Likelihood:                -69.206\n",
            "No. Observations:                 100   AIC:                             146.4\n",
            "Df Residuals:                      96   BIC:                             156.8\n",
            "Df Model:                           3                                         \n",
            "Covariance Type:            nonrobust                                         \n",
            "==============================================================================\n",
            "                 coef    std err          t      P>|t|      [0.025      0.975]\n",
            "------------------------------------------------------------------------------\n",
            "const          0.5241      0.077      6.816      0.000       0.371       0.677\n",
            "x1             1.1211      0.214      5.227      0.000       0.695       1.547\n",
            "x2             0.0060      0.187      0.032      0.975      -0.364       0.376\n",
            "x3             1.8838      0.358      5.269      0.000       1.174       2.593\n",
            "==============================================================================\n",
            "Omnibus:                        2.065   Durbin-Watson:                   1.896\n",
            "Prob(Omnibus):                  0.356   Jarque-Bera (JB):                1.833\n",
            "Skew:                          -0.331   Prob(JB):                        0.400\n",
            "Kurtosis:                       2.980   Cond. No.                         8.76\n",
            "==============================================================================\n",
            "\n",
            "Notes:\n",
            "[1] Standard Errors assume that the covariance matrix of the errors is correctly specified.\n"
          ]
        }
      ],
      "source": [
        "# fit model and print the summary\n",
        "model = sm.OLS(y, X)\n",
        "res = model.fit()\n",
        "print(res.summary())"
      ]
    },
    {
      "cell_type": "markdown",
      "metadata": {
        "id": "u03fK2IYnZY9"
      },
      "source": [
        "The resulting model is:\n",
        "\n",
        "$$\n",
        "    \\hat{y} = 0.5241 + 1.1211 x + 0.0060 x^2 + 1.8838 x^3\n",
        "$$\n",
        "\n",
        "- Notice that the coefficient for $x^2$ is quite small.\n",
        "- Also notice that `x2`, the variable associated with $x^2$, has a relatively **high** $p$-value (shown in the `P>|t|` column).\n",
        "- This means that the variable is not important, and should be removed from the model.\n",
        "\n",
        "Lets do it:"
      ]
    },
    {
      "cell_type": "code",
      "execution_count": 43,
      "metadata": {
        "id": "CfgMmDhvn8ir"
      },
      "outputs": [
        {
          "name": "stdout",
          "output_type": "stream",
          "text": [
            "                            OLS Regression Results                            \n",
            "==============================================================================\n",
            "Dep. Variable:                      y   R-squared:                       0.859\n",
            "Model:                            OLS   Adj. R-squared:                  0.857\n",
            "Method:                 Least Squares   F-statistic:                     296.6\n",
            "Date:                Thu, 17 Oct 2024   Prob (F-statistic):           4.63e-42\n",
            "Time:                        16:34:46   Log-Likelihood:                -69.207\n",
            "No. Observations:                 100   AIC:                             144.4\n",
            "Df Residuals:                      97   BIC:                             152.2\n",
            "Df Model:                           2                                         \n",
            "Covariance Type:            nonrobust                                         \n",
            "==============================================================================\n",
            "                 coef    std err          t      P>|t|      [0.025      0.975]\n",
            "------------------------------------------------------------------------------\n",
            "const          0.5260      0.051     10.375      0.000       0.425       0.627\n",
            "x1             1.1215      0.213      5.265      0.000       0.699       1.544\n",
            "x2             1.8832      0.355      5.301      0.000       1.178       2.588\n",
            "==============================================================================\n",
            "Omnibus:                        2.063   Durbin-Watson:                   1.895\n",
            "Prob(Omnibus):                  0.356   Jarque-Bera (JB):                1.829\n",
            "Skew:                          -0.331   Prob(JB):                        0.401\n",
            "Kurtosis:                       2.981   Cond. No.                         8.35\n",
            "==============================================================================\n",
            "\n",
            "Notes:\n",
            "[1] Standard Errors assume that the covariance matrix of the errors is correctly specified.\n"
          ]
        }
      ],
      "source": [
        "X_new = X[:, [0, 1, 3]] # ignore the 2nd column (the one associated with x^2)\n",
        "model = sm.OLS(y, X_new)\n",
        "res = model.fit()\n",
        "print(res.summary())"
      ]
    },
    {
      "cell_type": "markdown",
      "metadata": {
        "id": "yHYLMcNLoXsx"
      },
      "source": [
        "While the `R-squared` variable is very similar for both models, there are two reasons why we should prefer this second model:\n",
        "1. The **parsimony** principle (or *Occam's Razor*), by which we prefer *simpler* models if they perform about as well as a more complex one.\n",
        "2. the `Prob (F-statistic)` statistic is much lower for the second model, indicating that it is actually a better fit.\n",
        "\n",
        "The resulting model is:\n",
        "\n",
        "$$\n",
        "    \\hat{y} = 0.5260 + 1.1215 x + 1.8832 x^3\n",
        "$$\n",
        "\n",
        "which is a good estimate of the data-generating function:\n",
        "\n",
        "$$\n",
        "    y = 0.5 + x + 2 x^3\n",
        "$$"
      ]
    },
    {
      "cell_type": "markdown",
      "metadata": {
        "id": "THSmvVFnsDWg"
      },
      "source": [
        "### Getting Confidence Intervals\n",
        "\n",
        "Finally, lets use the `wls_prediction_std` function to generate a $95\\%$ confidence intervals (CIs) for our model. This means that we expect that 95 out of 100 points will fall between these CIs."
      ]
    },
    {
      "cell_type": "code",
      "execution_count": 44,
      "metadata": {
        "id": "8IrFjSMHhixH"
      },
      "outputs": [],
      "source": [
        "prstd, iv_l, iv_u = wls_prediction_std(res)"
      ]
    },
    {
      "cell_type": "markdown",
      "metadata": {
        "id": "buZrNQacrxJ8"
      },
      "source": [
        "By plotting everything together, we can verify that our fitted model is really close to the generating function, and that the CI *does* contain most of the actual data:"
      ]
    },
    {
      "cell_type": "code",
      "execution_count": 45,
      "metadata": {
        "id": "SQg2EUOrotTV"
      },
      "outputs": [
        {
          "data": {
            "image/png": "[encoded data removed]",
            "text/plain": [
              "<Figure size 800x600 with 1 Axes>"
            ]
          },
          "metadata": {},
          "output_type": "display_data"
        }
      ],
      "source": [
        "fig, ax = plt.subplots(figsize=(8,6))\n",
        "\n",
        "ax.plot(x, y, 'o', label='Generated Data')\n",
        "ax.plot(x, y_gen, 'b-', label='Generating Function')\n",
        "ax.plot(x, res.predict(), 'r--.', label='Fitted Model')\n",
        "ax.plot(x, iv_u, 'g--', label='95% Confidence Interval')\n",
        "ax.plot(x, iv_l, 'g--')\n",
        "ax.legend(loc='best');"
      ]
    },
    {
      "cell_type": "markdown",
      "metadata": {
        "id": "YjNucUSbE1VW"
      },
      "source": [
        "### Hands On - Feature Selection\n",
        "\n",
        "This method is known as **backward feature selection**, and is a way to obtain a more *parsimonious* model:\n",
        "\n",
        "1. Using `statsmodels`, fit a linear regression model for the `Boston` data set, with `medv` as the response and all the remaining columns as predictors.\n",
        "2. Based on the **model summary**, remove the predictor with the *highest* $p$-value, and fit the model again.\n",
        "3. Keep doing this until all of the remaining predictors have a $p \\le 0.05$ or another threshold, e.g., $0.01$.\n",
        "\n",
        "Alternatively you could also perform **forward feature selection**:\n",
        "\n",
        "1. If you have $m$ predictors, generate $m$ **simple linear regression** models, each with a single predictor, and select the one with the **lowest** MSE. Lets say this predictor is $X^*$.\n",
        "2. Now, generate $m - 1$ models, each with $X^*$ and **one additional predictor**. Again, choose the model with the **lowest** MSE score.\n",
        "3. Keep doing this until the MSE score doesn't improve **or** the $p$-value for some variable in the new model is higher than, say, $0.05$.\n",
        "\n",
        "Try both approaches and see if you reach the same final model."
      ]
    },
    {
      "cell_type": "code",
      "execution_count": 64,
      "metadata": {
        "id": "oRYKB03Ssc14"
      },
      "outputs": [
        {
          "data": {
            "text/html": [
              "<div>\n",
              "<style scoped>\n",
              "    .dataframe tbody tr th:only-of-type {\n",
              "        vertical-align: middle;\n",
              "    }\n",
              "\n",
              "    .dataframe tbody tr th {\n",
              "        vertical-align: top;\n",
              "    }\n",
              "\n",
              "    .dataframe thead th {\n",
              "        text-align: right;\n",
              "    }\n",
              "</style>\n",
              "<table border=\"1\" class=\"dataframe\">\n",
              "  <thead>\n",
              "    <tr style=\"text-align: right;\">\n",
              "      <th></th>\n",
              "      <th>crim</th>\n",
              "      <th>zn</th>\n",
              "      <th>indus</th>\n",
              "      <th>chas</th>\n",
              "      <th>nox</th>\n",
              "      <th>rm</th>\n",
              "      <th>age</th>\n",
              "      <th>dis</th>\n",
              "      <th>rad</th>\n",
              "      <th>tax</th>\n",
              "      <th>ptratio</th>\n",
              "      <th>lstat</th>\n",
              "      <th>medv</th>\n",
              "    </tr>\n",
              "  </thead>\n",
              "  <tbody>\n",
              "    <tr>\n",
              "      <th>0</th>\n",
              "      <td>0.00632</td>\n",
              "      <td>18.0</td>\n",
              "      <td>2.31</td>\n",
              "      <td>0</td>\n",
              "      <td>0.538</td>\n",
              "      <td>6.575</td>\n",
              "      <td>65.2</td>\n",
              "      <td>4.0900</td>\n",
              "      <td>1</td>\n",
              "      <td>296</td>\n",
              "      <td>15.3</td>\n",
              "      <td>4.98</td>\n",
              "      <td>24.0</td>\n",
              "    </tr>\n",
              "    <tr>\n",
              "      <th>1</th>\n",
              "      <td>0.02731</td>\n",
              "      <td>0.0</td>\n",
              "      <td>7.07</td>\n",
              "      <td>0</td>\n",
              "      <td>0.469</td>\n",
              "      <td>6.421</td>\n",
              "      <td>78.9</td>\n",
              "      <td>4.9671</td>\n",
              "      <td>2</td>\n",
              "      <td>242</td>\n",
              "      <td>17.8</td>\n",
              "      <td>9.14</td>\n",
              "      <td>21.6</td>\n",
              "    </tr>\n",
              "    <tr>\n",
              "      <th>2</th>\n",
              "      <td>0.02729</td>\n",
              "      <td>0.0</td>\n",
              "      <td>7.07</td>\n",
              "      <td>0</td>\n",
              "      <td>0.469</td>\n",
              "      <td>7.185</td>\n",
              "      <td>61.1</td>\n",
              "      <td>4.9671</td>\n",
              "      <td>2</td>\n",
              "      <td>242</td>\n",
              "      <td>17.8</td>\n",
              "      <td>4.03</td>\n",
              "      <td>34.7</td>\n",
              "    </tr>\n",
              "    <tr>\n",
              "      <th>3</th>\n",
              "      <td>0.03237</td>\n",
              "      <td>0.0</td>\n",
              "      <td>2.18</td>\n",
              "      <td>0</td>\n",
              "      <td>0.458</td>\n",
              "      <td>6.998</td>\n",
              "      <td>45.8</td>\n",
              "      <td>6.0622</td>\n",
              "      <td>3</td>\n",
              "      <td>222</td>\n",
              "      <td>18.7</td>\n",
              "      <td>2.94</td>\n",
              "      <td>33.4</td>\n",
              "    </tr>\n",
              "    <tr>\n",
              "      <th>4</th>\n",
              "      <td>0.06905</td>\n",
              "      <td>0.0</td>\n",
              "      <td>2.18</td>\n",
              "      <td>0</td>\n",
              "      <td>0.458</td>\n",
              "      <td>7.147</td>\n",
              "      <td>54.2</td>\n",
              "      <td>6.0622</td>\n",
              "      <td>3</td>\n",
              "      <td>222</td>\n",
              "      <td>18.7</td>\n",
              "      <td>5.33</td>\n",
              "      <td>36.2</td>\n",
              "    </tr>\n",
              "    <tr>\n",
              "      <th>5</th>\n",
              "      <td>0.02985</td>\n",
              "      <td>0.0</td>\n",
              "      <td>2.18</td>\n",
              "      <td>0</td>\n",
              "      <td>0.458</td>\n",
              "      <td>6.430</td>\n",
              "      <td>58.7</td>\n",
              "      <td>6.0622</td>\n",
              "      <td>3</td>\n",
              "      <td>222</td>\n",
              "      <td>18.7</td>\n",
              "      <td>5.21</td>\n",
              "      <td>28.7</td>\n",
              "    </tr>\n",
              "    <tr>\n",
              "      <th>6</th>\n",
              "      <td>0.08829</td>\n",
              "      <td>12.5</td>\n",
              "      <td>7.87</td>\n",
              "      <td>0</td>\n",
              "      <td>0.524</td>\n",
              "      <td>6.012</td>\n",
              "      <td>66.6</td>\n",
              "      <td>5.5605</td>\n",
              "      <td>5</td>\n",
              "      <td>311</td>\n",
              "      <td>15.2</td>\n",
              "      <td>12.43</td>\n",
              "      <td>22.9</td>\n",
              "    </tr>\n",
              "    <tr>\n",
              "      <th>7</th>\n",
              "      <td>0.14455</td>\n",
              "      <td>12.5</td>\n",
              "      <td>7.87</td>\n",
              "      <td>0</td>\n",
              "      <td>0.524</td>\n",
              "      <td>6.172</td>\n",
              "      <td>96.1</td>\n",
              "      <td>5.9505</td>\n",
              "      <td>5</td>\n",
              "      <td>311</td>\n",
              "      <td>15.2</td>\n",
              "      <td>19.15</td>\n",
              "      <td>27.1</td>\n",
              "    </tr>\n",
              "    <tr>\n",
              "      <th>8</th>\n",
              "      <td>0.21124</td>\n",
              "      <td>12.5</td>\n",
              "      <td>7.87</td>\n",
              "      <td>0</td>\n",
              "      <td>0.524</td>\n",
              "      <td>5.631</td>\n",
              "      <td>100.0</td>\n",
              "      <td>6.0821</td>\n",
              "      <td>5</td>\n",
              "      <td>311</td>\n",
              "      <td>15.2</td>\n",
              "      <td>29.93</td>\n",
              "      <td>16.5</td>\n",
              "    </tr>\n",
              "    <tr>\n",
              "      <th>9</th>\n",
              "      <td>0.17004</td>\n",
              "      <td>12.5</td>\n",
              "      <td>7.87</td>\n",
              "      <td>0</td>\n",
              "      <td>0.524</td>\n",
              "      <td>6.004</td>\n",
              "      <td>85.9</td>\n",
              "      <td>6.5921</td>\n",
              "      <td>5</td>\n",
              "      <td>311</td>\n",
              "      <td>15.2</td>\n",
              "      <td>17.10</td>\n",
              "      <td>18.9</td>\n",
              "    </tr>\n",
              "  </tbody>\n",
              "</table>\n",
              "</div>"
            ],
            "text/plain": [
              "      crim    zn  indus  chas    nox     rm    age     dis  rad  tax  ptratio  \\\n",
              "0  0.00632  18.0   2.31     0  0.538  6.575   65.2  4.0900    1  296     15.3   \n",
              "1  0.02731   0.0   7.07     0  0.469  6.421   78.9  4.9671    2  242     17.8   \n",
              "2  0.02729   0.0   7.07     0  0.469  7.185   61.1  4.9671    2  242     17.8   \n",
              "3  0.03237   0.0   2.18     0  0.458  6.998   45.8  6.0622    3  222     18.7   \n",
              "4  0.06905   0.0   2.18     0  0.458  7.147   54.2  6.0622    3  222     18.7   \n",
              "5  0.02985   0.0   2.18     0  0.458  6.430   58.7  6.0622    3  222     18.7   \n",
              "6  0.08829  12.5   7.87     0  0.524  6.012   66.6  5.5605    5  311     15.2   \n",
              "7  0.14455  12.5   7.87     0  0.524  6.172   96.1  5.9505    5  311     15.2   \n",
              "8  0.21124  12.5   7.87     0  0.524  5.631  100.0  6.0821    5  311     15.2   \n",
              "9  0.17004  12.5   7.87     0  0.524  6.004   85.9  6.5921    5  311     15.2   \n",
              "\n",
              "   lstat  medv  \n",
              "0   4.98  24.0  \n",
              "1   9.14  21.6  \n",
              "2   4.03  34.7  \n",
              "3   2.94  33.4  \n",
              "4   5.33  36.2  \n",
              "5   5.21  28.7  \n",
              "6  12.43  22.9  \n",
              "7  19.15  27.1  \n",
              "8  29.93  16.5  \n",
              "9  17.10  18.9  "
            ]
          },
          "execution_count": 64,
          "metadata": {},
          "output_type": "execute_result"
        }
      ],
      "source": [
        "# load the Boston dataset\n",
        "path = 'https://github.com/vladoxNCL/ml_course/raw/main/Boston.csv'\n",
        "df = pd.read_csv(path)\n",
        "df = df.iloc[:, 1:]\n",
        "X = df.drop('medv', axis=1)\n",
        "X = sm.add_constant(X)\n",
        "y = df['medv']\n",
        "df.dtypes\n",
        "\n",
        "df.head(10)"
      ]
    },
    {
      "cell_type": "code",
      "execution_count": 47,
      "metadata": {
        "id": "c0y0znZvKVoI"
      },
      "outputs": [
        {
          "name": "stdout",
          "output_type": "stream",
          "text": [
            "                            OLS Regression Results                            \n",
            "==============================================================================\n",
            "Dep. Variable:                   medv   R-squared:                       0.734\n",
            "Model:                            OLS   Adj. R-squared:                  0.728\n",
            "Method:                 Least Squares   F-statistic:                     113.5\n",
            "Date:                Thu, 17 Oct 2024   Prob (F-statistic):          2.23e-133\n",
            "Time:                        16:42:04   Log-Likelihood:                -1504.9\n",
            "No. Observations:                 506   AIC:                             3036.\n",
            "Df Residuals:                     493   BIC:                             3091.\n",
            "Df Model:                          12                                         \n",
            "Covariance Type:            nonrobust                                         \n",
            "==============================================================================\n",
            "                 coef    std err          t      P>|t|      [0.025      0.975]\n",
            "------------------------------------------------------------------------------\n",
            "const         41.6173      4.936      8.431      0.000      31.919      51.316\n",
            "crim          -0.1214      0.033     -3.678      0.000      -0.186      -0.057\n",
            "zn             0.0470      0.014      3.384      0.001       0.020       0.074\n",
            "indus          0.0135      0.062      0.217      0.829      -0.109       0.136\n",
            "chas           2.8400      0.870      3.264      0.001       1.131       4.549\n",
            "nox          -18.7580      3.851     -4.870      0.000     -26.325     -11.191\n",
            "rm             3.6581      0.420      8.705      0.000       2.832       4.484\n",
            "age            0.0036      0.013      0.271      0.787      -0.023       0.030\n",
            "dis           -1.4908      0.202     -7.394      0.000      -1.887      -1.095\n",
            "rad            0.2894      0.067      4.325      0.000       0.158       0.421\n",
            "tax           -0.0127      0.004     -3.337      0.001      -0.020      -0.005\n",
            "ptratio       -0.9375      0.132     -7.091      0.000      -1.197      -0.678\n",
            "lstat         -0.5520      0.051    -10.897      0.000      -0.652      -0.452\n",
            "==============================================================================\n",
            "Omnibus:                      171.096   Durbin-Watson:                   1.077\n",
            "Prob(Omnibus):                  0.000   Jarque-Bera (JB):              709.937\n",
            "Skew:                           1.477   Prob(JB):                    6.90e-155\n",
            "Kurtosis:                       7.995   Cond. No.                     1.17e+04\n",
            "==============================================================================\n",
            "\n",
            "Notes:\n",
            "[1] Standard Errors assume that the covariance matrix of the errors is correctly specified.\n",
            "[2] The condition number is large, 1.17e+04. This might indicate that there are\n",
            "strong multicollinearity or other numerical problems.\n"
          ]
        }
      ],
      "source": [
        "# do your modelling here\n",
        "\n",
        "model = sm.OLS(y, X)\n",
        "res = model.fit()\n",
        "print(res.summary())\n",
        "\n",
        "\n"
      ]
    },
    {
      "cell_type": "code",
      "execution_count": 53,
      "metadata": {},
      "outputs": [
        {
          "name": "stdout",
          "output_type": "stream",
          "text": [
            "                            OLS Regression Results                            \n",
            "==============================================================================\n",
            "Dep. Variable:                   medv   R-squared:                       0.734\n",
            "Model:                            OLS   Adj. R-squared:                  0.728\n",
            "Method:                 Least Squares   F-statistic:                     124.1\n",
            "Date:                Thu, 17 Oct 2024   Prob (F-statistic):          2.00e-134\n",
            "Time:                        16:52:36   Log-Likelihood:                -1504.9\n",
            "No. Observations:                 506   AIC:                             3034.\n",
            "Df Residuals:                     494   BIC:                             3085.\n",
            "Df Model:                          11                                         \n",
            "Covariance Type:            nonrobust                                         \n",
            "==============================================================================\n",
            "                 coef    std err          t      P>|t|      [0.025      0.975]\n",
            "------------------------------------------------------------------------------\n",
            "const         41.5437      4.920      8.445      0.000      31.878      51.210\n",
            "crim          -0.1216      0.033     -3.691      0.000      -0.186      -0.057\n",
            "zn             0.0466      0.014      3.383      0.001       0.020       0.074\n",
            "chas           2.8591      0.865      3.307      0.001       1.160       4.558\n",
            "nox          -18.5349      3.708     -4.999      0.000     -25.819     -11.250\n",
            "rm             3.6500      0.418      8.728      0.000       2.828       4.472\n",
            "age            0.0036      0.013      0.271      0.787      -0.023       0.030\n",
            "dis           -1.5000      0.197     -7.617      0.000      -1.887      -1.113\n",
            "rad            0.2854      0.064      4.443      0.000       0.159       0.412\n",
            "tax           -0.0123      0.003     -3.611      0.000      -0.019      -0.006\n",
            "ptratio       -0.9338      0.131     -7.130      0.000      -1.191      -0.676\n",
            "lstat         -0.5511      0.050    -10.927      0.000      -0.650      -0.452\n",
            "==============================================================================\n",
            "Omnibus:                      171.179   Durbin-Watson:                   1.077\n",
            "Prob(Omnibus):                  0.000   Jarque-Bera (JB):              710.910\n",
            "Skew:                           1.477   Prob(JB):                    4.24e-155\n",
            "Kurtosis:                       7.999   Cond. No.                     1.16e+04\n",
            "==============================================================================\n",
            "\n",
            "Notes:\n",
            "[1] Standard Errors assume that the covariance matrix of the errors is correctly specified.\n",
            "[2] The condition number is large, 1.16e+04. This might indicate that there are\n",
            "strong multicollinearity or other numerical problems.\n"
          ]
        }
      ],
      "source": [
        "# removing indus column\n",
        "x_new = X.drop('indus', axis=1)\n",
        "model = sm.OLS(y, x_new)\n",
        "res = model.fit()\n",
        "print(res.summary())\n"
      ]
    },
    {
      "cell_type": "code",
      "execution_count": 54,
      "metadata": {},
      "outputs": [
        {
          "name": "stdout",
          "output_type": "stream",
          "text": [
            "                            OLS Regression Results                            \n",
            "==============================================================================\n",
            "Dep. Variable:                   medv   R-squared:                       0.734\n",
            "Model:                            OLS   Adj. R-squared:                  0.729\n",
            "Method:                 Least Squares   F-statistic:                     136.8\n",
            "Date:                Thu, 17 Oct 2024   Prob (F-statistic):          1.73e-135\n",
            "Time:                        16:53:18   Log-Likelihood:                -1505.0\n",
            "No. Observations:                 506   AIC:                             3032.\n",
            "Df Residuals:                     495   BIC:                             3078.\n",
            "Df Model:                          10                                         \n",
            "Covariance Type:            nonrobust                                         \n",
            "==============================================================================\n",
            "                 coef    std err          t      P>|t|      [0.025      0.975]\n",
            "------------------------------------------------------------------------------\n",
            "const         41.4517      4.903      8.454      0.000      31.818      51.086\n",
            "crim          -0.1217      0.033     -3.696      0.000      -0.186      -0.057\n",
            "zn             0.0462      0.014      3.378      0.001       0.019       0.073\n",
            "chas           2.8719      0.863      3.329      0.001       1.177       4.567\n",
            "nox          -18.2624      3.565     -5.122      0.000     -25.267     -11.258\n",
            "rm             3.6730      0.409      8.978      0.000       2.869       4.477\n",
            "dis           -1.5160      0.188     -8.078      0.000      -1.885      -1.147\n",
            "rad            0.2839      0.064      4.440      0.000       0.158       0.410\n",
            "tax           -0.0123      0.003     -3.608      0.000      -0.019      -0.006\n",
            "ptratio       -0.9310      0.130     -7.138      0.000      -1.187      -0.675\n",
            "lstat         -0.5465      0.047    -11.519      0.000      -0.640      -0.453\n",
            "==============================================================================\n",
            "Omnibus:                      172.594   Durbin-Watson:                   1.074\n",
            "Prob(Omnibus):                  0.000   Jarque-Bera (JB):              725.971\n",
            "Skew:                           1.486   Prob(JB):                    2.28e-158\n",
            "Kurtosis:                       8.060   Cond. No.                     1.13e+04\n",
            "==============================================================================\n",
            "\n",
            "Notes:\n",
            "[1] Standard Errors assume that the covariance matrix of the errors is correctly specified.\n",
            "[2] The condition number is large, 1.13e+04. This might indicate that there are\n",
            "strong multicollinearity or other numerical problems.\n"
          ]
        }
      ],
      "source": [
        "# dropping age from df\n",
        "x_new = x_new.drop('age', axis=1)\n",
        "model = sm.OLS(y, x_new)\n",
        "res = model.fit()\n",
        "print(res.summary())\n"
      ]
    },
    {
      "cell_type": "code",
      "execution_count": 63,
      "metadata": {},
      "outputs": [
        {
          "name": "stderr",
          "output_type": "stream",
          "text": [
            "C:\\Users\\Computer Science\\AppData\\Local\\Temp\\ipykernel_2432\\4233631956.py:6: FutureWarning: Series.__getitem__ treating keys as positions is deprecated. In a future version, integer keys will always be treated as labels (consistent with DataFrame behavior). To access a value by position, use `ser.iloc[pos]`\n",
            "  y_plot = res.params[0] + res.params[1]*x_plot\n"
          ]
        },
        {
          "data": {
            "text/plain": [
              "[<matplotlib.lines.Line2D at 0x1abcc5e9b50>]"
            ]
          },
          "execution_count": 63,
          "metadata": {},
          "output_type": "execute_result"
        },
        {
          "data": {
            "image/png": "[encoded data removed]",
            "text/plain": [
              "<Figure size 800x600 with 1 Axes>"
            ]
          },
          "metadata": {},
          "output_type": "display_data"
        }
      ],
      "source": [
        "fig, ax = plt.subplots(figsize=(8,6))\n",
        "\n",
        "\n",
        "x_min, x_max = df['crim'].min(), df['crim'].max()\n",
        "x_plot = np.linspace(x_min, x_max, 100)\n",
        "y_plot = res.params[0] + res.params[1]*x_plot\n",
        "\n",
        "ax.plot(df['crim'], df['medv'], 'o', label='Data')\n",
        "ax.plot(x_plot, y_plot, 'r--.', label='Fitted Model')"
      ]
    }
  ],
  "metadata": {
    "colab": {
      "provenance": []
    },
    "kernelspec": {
      "display_name": "Python 3",
      "name": "python3"
    },
    "language_info": {
      "codemirror_mode": {
        "name": "ipython",
        "version": 3
      },
      "file_extension": ".py",
      "mimetype": "text/x-python",
      "name": "python",
      "nbconvert_exporter": "python",
      "pygments_lexer": "ipython3",
      "version": "3.11.5"
    }
  },
  "nbformat": 4,
  "nbformat_minor": 0
}
